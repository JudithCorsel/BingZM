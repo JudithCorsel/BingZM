{
 "cells": [
  {
   "cell_type": "markdown",
   "metadata": {
    "toc": true
   },
   "source": [
    "<h1>Table of Contents<span class=\"tocSkip\"></span></h1>\n",
    "<div class=\"toc\"><ul class=\"toc-item\"><li><span><a href=\"#Notebook-made-by\" data-toc-modified-id=\"Notebook-made-by-1\"><span class=\"toc-item-num\">1&nbsp;&nbsp;</span>Notebook made by</a></span></li><li><span><a href=\"#Search-Engine\" data-toc-modified-id=\"Search-Engine-2\"><span class=\"toc-item-num\">2&nbsp;&nbsp;</span>Search Engine</a></span></li><li><span><a href=\"#Assignment\" data-toc-modified-id=\"Assignment-3\"><span class=\"toc-item-num\">3&nbsp;&nbsp;</span>Assignment</a></span><ul class=\"toc-item\"><li><span><a href=\"#Requirement-1\" data-toc-modified-id=\"Requirement-1-3.1\"><span class=\"toc-item-num\">3.1&nbsp;&nbsp;</span>Requirement 1</a></span></li><li><span><a href=\"#Requirement-2\" data-toc-modified-id=\"Requirement-2-3.2\"><span class=\"toc-item-num\">3.2&nbsp;&nbsp;</span>Requirement 2</a></span></li><li><span><a href=\"#Requirement-3\" data-toc-modified-id=\"Requirement-3-3.3\"><span class=\"toc-item-num\">3.3&nbsp;&nbsp;</span>Requirement 3</a></span></li><li><span><a href=\"#Requirement-4\" data-toc-modified-id=\"Requirement-4-3.4\"><span class=\"toc-item-num\">3.4&nbsp;&nbsp;</span>Requirement 4</a></span></li><li><span><a href=\"#Requirement-5\" data-toc-modified-id=\"Requirement-5-3.5\"><span class=\"toc-item-num\">3.5&nbsp;&nbsp;</span>Requirement 5</a></span></li><li><span><a href=\"#Requirement-6\" data-toc-modified-id=\"Requirement-6-3.6\"><span class=\"toc-item-num\">3.6&nbsp;&nbsp;</span>Requirement 6</a></span></li></ul></li></ul></div>"
   ]
  },
  {
   "cell_type": "markdown",
   "metadata": {},
   "source": [
    "# Notebook made by  \n",
    "\n",
    "__Name(s)__: Chandni Bagchi, Judith Corsel, Magda Pannekoek, Nina Verheijen\n",
    "\n",
    "__Student id(s)__ : 11824883, 11891173, 11621958, 11764198\n",
    "\n",
    " "
   ]
  },
  {
   "cell_type": "markdown",
   "metadata": {},
   "source": [
    "# Search Engine\n",
    "\n",
    "first off, all the code of the search engine"
   ]
  },
  {
   "cell_type": "code",
   "execution_count": 10,
   "metadata": {},
   "outputs": [
    {
     "ename": "AttributeError",
     "evalue": "module 'html5lib.treebuilders' has no attribute '_base'",
     "output_type": "error",
     "traceback": [
      "\u001b[0;31m---------------------------------------------------------------------------\u001b[0m",
      "\u001b[0;31mAttributeError\u001b[0m                            Traceback (most recent call last)",
      "\u001b[0;32m<ipython-input-10-9c3c0cee4df2>\u001b[0m in \u001b[0;36m<module>\u001b[0;34m()\u001b[0m\n\u001b[1;32m      1\u001b[0m \u001b[0;34m\"\"\" import packages \"\"\"\u001b[0m\u001b[0;34m\u001b[0m\u001b[0m\n\u001b[0;32m----> 2\u001b[0;31m \u001b[0;32mfrom\u001b[0m \u001b[0mbs4\u001b[0m \u001b[0;32mimport\u001b[0m \u001b[0mBeautifulSoup\u001b[0m\u001b[0;34m\u001b[0m\u001b[0m\n\u001b[0m\u001b[1;32m      3\u001b[0m \u001b[0;32mimport\u001b[0m \u001b[0mnltk\u001b[0m\u001b[0;34m\u001b[0m\u001b[0m\n\u001b[1;32m      4\u001b[0m \u001b[0;32mimport\u001b[0m \u001b[0mpandas\u001b[0m \u001b[0;32mas\u001b[0m \u001b[0mpd\u001b[0m\u001b[0;34m\u001b[0m\u001b[0m\n\u001b[1;32m      5\u001b[0m \u001b[0;32mimport\u001b[0m \u001b[0mnumpy\u001b[0m \u001b[0;32mas\u001b[0m \u001b[0mnp\u001b[0m\u001b[0;34m\u001b[0m\u001b[0m\n",
      "\u001b[0;32m/usr/lib/python3/dist-packages/bs4/__init__.py\u001b[0m in \u001b[0;36m<module>\u001b[0;34m()\u001b[0m\n\u001b[1;32m     28\u001b[0m \u001b[0;32mimport\u001b[0m \u001b[0mwarnings\u001b[0m\u001b[0;34m\u001b[0m\u001b[0m\n\u001b[1;32m     29\u001b[0m \u001b[0;34m\u001b[0m\u001b[0m\n\u001b[0;32m---> 30\u001b[0;31m \u001b[0;32mfrom\u001b[0m \u001b[0;34m.\u001b[0m\u001b[0mbuilder\u001b[0m \u001b[0;32mimport\u001b[0m \u001b[0mbuilder_registry\u001b[0m\u001b[0;34m,\u001b[0m \u001b[0mParserRejectedMarkup\u001b[0m\u001b[0;34m\u001b[0m\u001b[0m\n\u001b[0m\u001b[1;32m     31\u001b[0m \u001b[0;32mfrom\u001b[0m \u001b[0;34m.\u001b[0m\u001b[0mdammit\u001b[0m \u001b[0;32mimport\u001b[0m \u001b[0mUnicodeDammit\u001b[0m\u001b[0;34m\u001b[0m\u001b[0m\n\u001b[1;32m     32\u001b[0m from .element import (\n",
      "\u001b[0;32m/usr/lib/python3/dist-packages/bs4/builder/__init__.py\u001b[0m in \u001b[0;36m<module>\u001b[0;34m()\u001b[0m\n\u001b[1;32m    312\u001b[0m \u001b[0mregister_treebuilders_from\u001b[0m\u001b[0;34m(\u001b[0m\u001b[0m_htmlparser\u001b[0m\u001b[0;34m)\u001b[0m\u001b[0;34m\u001b[0m\u001b[0m\n\u001b[1;32m    313\u001b[0m \u001b[0;32mtry\u001b[0m\u001b[0;34m:\u001b[0m\u001b[0;34m\u001b[0m\u001b[0m\n\u001b[0;32m--> 314\u001b[0;31m     \u001b[0;32mfrom\u001b[0m \u001b[0;34m.\u001b[0m \u001b[0;32mimport\u001b[0m \u001b[0m_html5lib\u001b[0m\u001b[0;34m\u001b[0m\u001b[0m\n\u001b[0m\u001b[1;32m    315\u001b[0m     \u001b[0mregister_treebuilders_from\u001b[0m\u001b[0;34m(\u001b[0m\u001b[0m_html5lib\u001b[0m\u001b[0;34m)\u001b[0m\u001b[0;34m\u001b[0m\u001b[0m\n\u001b[1;32m    316\u001b[0m \u001b[0;32mexcept\u001b[0m \u001b[0mImportError\u001b[0m\u001b[0;34m:\u001b[0m\u001b[0;34m\u001b[0m\u001b[0m\n",
      "\u001b[0;32m/usr/lib/python3/dist-packages/bs4/builder/_html5lib.py\u001b[0m in \u001b[0;36m<module>\u001b[0;34m()\u001b[0m\n\u001b[1;32m     68\u001b[0m \u001b[0;34m\u001b[0m\u001b[0m\n\u001b[1;32m     69\u001b[0m \u001b[0;34m\u001b[0m\u001b[0m\n\u001b[0;32m---> 70\u001b[0;31m \u001b[0;32mclass\u001b[0m \u001b[0mTreeBuilderForHtml5lib\u001b[0m\u001b[0;34m(\u001b[0m\u001b[0mhtml5lib\u001b[0m\u001b[0;34m.\u001b[0m\u001b[0mtreebuilders\u001b[0m\u001b[0;34m.\u001b[0m\u001b[0m_base\u001b[0m\u001b[0;34m.\u001b[0m\u001b[0mTreeBuilder\u001b[0m\u001b[0;34m)\u001b[0m\u001b[0;34m:\u001b[0m\u001b[0;34m\u001b[0m\u001b[0m\n\u001b[0m\u001b[1;32m     71\u001b[0m \u001b[0;34m\u001b[0m\u001b[0m\n\u001b[1;32m     72\u001b[0m     \u001b[0;32mdef\u001b[0m \u001b[0m__init__\u001b[0m\u001b[0;34m(\u001b[0m\u001b[0mself\u001b[0m\u001b[0;34m,\u001b[0m \u001b[0msoup\u001b[0m\u001b[0;34m,\u001b[0m \u001b[0mnamespaceHTMLElements\u001b[0m\u001b[0;34m)\u001b[0m\u001b[0;34m:\u001b[0m\u001b[0;34m\u001b[0m\u001b[0m\n",
      "\u001b[0;31mAttributeError\u001b[0m: module 'html5lib.treebuilders' has no attribute '_base'"
     ]
    }
   ],
   "source": [
    "\"\"\" import packages \"\"\"\n",
    "from bs4 import BeautifulSoup\n",
    "import nltk\n",
    "import pandas as pd\n",
    "import numpy as np\n",
    "\n",
    "import xml.etree.ElementTree as ET\n",
    "import re\n",
    "from collections import defaultdict\n",
    "from tqdm import tqdm_notebook\n",
    "import ipywidgets as widgets\n",
    "import zipfile\n",
    "from IPython.core.display import display, HTML\n",
    "import json\n",
    "import webbrowser\n",
    "import ipywidgets as widgets\n",
    "import pandas as pd\n",
    "from datetime import datetime\n",
    "import numpy as np\n",
    "import pandas as pd\n",
    "from os import path\n",
    "from PIL import Image\n",
    "from wordcloud import WordCloud, STOPWORDS, ImageColorGenerator\n",
    "from elasticsearch import Elasticsearch\n",
    "\n",
    "import matplotlib.pyplot as plt\n",
    "%matplotlib inline\n",
    "\n",
    "#List of Dutch stopwords\n",
    "stopwords = [\"de\", \"het\", \"zijn\", \"niet\", \"heeft\", \"en\", \"dat\", \"hij\", \"zij\", \"het\", \"van\", \"in\", \"uit\", \"ook\", \"die\", \"wat\", \"te\",\n",
    "            \"is\", \"een\", \"had\", \"vanaf\", \"voor\", \"op\", \"zich\", \"met\", \"naar\", \"bij\", \"aan\", \"door\", \"als\", \"tot\", \"of\", \"geen\", \"wel\", \"ecli\"]\n"
   ]
  },
  {
   "cell_type": "code",
   "execution_count": 11,
   "metadata": {},
   "outputs": [
    {
     "ename": "NameError",
     "evalue": "name 'zipfile' is not defined",
     "output_type": "error",
     "traceback": [
      "\u001b[0;31m---------------------------------------------------------------------------\u001b[0m",
      "\u001b[0;31mNameError\u001b[0m                                 Traceback (most recent call last)",
      "\u001b[0;32m<ipython-input-11-ec80b6bad3a3>\u001b[0m in \u001b[0;36m<module>\u001b[0;34m()\u001b[0m\n\u001b[1;32m    102\u001b[0m \u001b[0;34m\u001b[0m\u001b[0m\n\u001b[1;32m    103\u001b[0m \u001b[0mzipfolder\u001b[0m \u001b[0;34m=\u001b[0m \u001b[0;34m'201903.zip'\u001b[0m\u001b[0;34m\u001b[0m\u001b[0m\n\u001b[0;32m--> 104\u001b[0;31m \u001b[0mdict1903\u001b[0m \u001b[0;34m=\u001b[0m \u001b[0mprocess_folder\u001b[0m\u001b[0;34m(\u001b[0m\u001b[0mzipfolder\u001b[0m\u001b[0;34m)\u001b[0m\u001b[0;34m\u001b[0m\u001b[0m\n\u001b[0m",
      "\u001b[0;32m<ipython-input-11-ec80b6bad3a3>\u001b[0m in \u001b[0;36mprocess_folder\u001b[0;34m(zipfolder)\u001b[0m\n\u001b[1;32m     71\u001b[0m \u001b[0;31m# Access zipfolder.\u001b[0m\u001b[0;34m\u001b[0m\u001b[0;34m\u001b[0m\u001b[0m\n\u001b[1;32m     72\u001b[0m \u001b[0;32mdef\u001b[0m \u001b[0mprocess_folder\u001b[0m\u001b[0;34m(\u001b[0m\u001b[0mzipfolder\u001b[0m\u001b[0;34m)\u001b[0m\u001b[0;34m:\u001b[0m\u001b[0;34m\u001b[0m\u001b[0m\n\u001b[0;32m---> 73\u001b[0;31m     \u001b[0marchive\u001b[0m \u001b[0;34m=\u001b[0m \u001b[0mzipfile\u001b[0m\u001b[0;34m.\u001b[0m\u001b[0mZipFile\u001b[0m\u001b[0;34m(\u001b[0m\u001b[0mzipfolder\u001b[0m\u001b[0;34m,\u001b[0m \u001b[0;34m'r'\u001b[0m\u001b[0;34m)\u001b[0m\u001b[0;34m\u001b[0m\u001b[0m\n\u001b[0m\u001b[1;32m     74\u001b[0m     \u001b[0mnamelist\u001b[0m \u001b[0;34m=\u001b[0m \u001b[0;34m[\u001b[0m\u001b[0mx\u001b[0m \u001b[0;32mfor\u001b[0m \u001b[0mx\u001b[0m \u001b[0;32min\u001b[0m \u001b[0marchive\u001b[0m\u001b[0;34m.\u001b[0m\u001b[0mnamelist\u001b[0m\u001b[0;34m(\u001b[0m\u001b[0;34m)\u001b[0m \u001b[0;32mif\u001b[0m \u001b[0;34m'.xml'\u001b[0m \u001b[0;32min\u001b[0m \u001b[0mx\u001b[0m \u001b[0;32mand\u001b[0m \u001b[0mx\u001b[0m\u001b[0;34m[\u001b[0m\u001b[0;36m0\u001b[0m\u001b[0;34m]\u001b[0m \u001b[0;32mis\u001b[0m \u001b[0;32mnot\u001b[0m \u001b[0;34m'E'\u001b[0m\u001b[0;34m]\u001b[0m\u001b[0;34m\u001b[0m\u001b[0m\n\u001b[1;32m     75\u001b[0m     \u001b[0myear\u001b[0m \u001b[0;34m=\u001b[0m \u001b[0mint\u001b[0m\u001b[0;34m(\u001b[0m\u001b[0mzipfolder\u001b[0m\u001b[0;34m[\u001b[0m\u001b[0;34m:\u001b[0m\u001b[0;36m4\u001b[0m\u001b[0;34m]\u001b[0m\u001b[0;34m)\u001b[0m\u001b[0;34m\u001b[0m\u001b[0m\n",
      "\u001b[0;31mNameError\u001b[0m: name 'zipfile' is not defined"
     ]
    }
   ],
   "source": [
    "\"\"\" process one zipfile \"\"\"\n",
    "# Process an opened file, and retrieve all necessary values to put into the dictionary.\n",
    "def process_file(file):\n",
    "    tree = ET.parse(file)\n",
    "    root = tree.getroot()\n",
    "\n",
    "    # Get all tags with corresponding text.\n",
    "    attrs = []\n",
    "    texts = []\n",
    "    counter = 0\n",
    "    for child in root.iter():\n",
    "        counter += 1\n",
    "        tag = child.tag\n",
    "        curlplace = tag.find('}')\n",
    "        attr = tag[curlplace+1:]\n",
    "        attrs.append(attr)\n",
    "        texts.append(child.text)\n",
    "        if counter > 80:\n",
    "            break\n",
    "\n",
    "    # Create dataframe with xml data.\n",
    "    df = pd.DataFrame({'tags': attrs,'text': texts})\n",
    "\n",
    "    # Check if document contains inhoudsindicatie.\n",
    "    inh = get_inhoud(df)\n",
    "    inst = get_instantie(df)\n",
    "    recht = get_rechtsgebied(df)\n",
    "    return inh, inst, recht\n",
    "\n",
    "# Get inhoudsindicatie (a small summary from the 'rechtspraak') from the xml file.\n",
    "def get_inhoud(df):\n",
    "    inhoud_str = ''\n",
    "    if df['tags'].str.contains('inhoudsindicatie').any():\n",
    "        # Select only the inhoudsindicatie.\n",
    "        selection = df[df.tags == 'inhoudsindicatie'].index.values[0]\n",
    "        inhoud_df = df.truncate(before = selection)\n",
    "        selection = df[df.tags == 'uitspraak']\n",
    "        if selection.empty:\n",
    "            selection = df[df.tags == 'conclusie']\n",
    "        inhoud_df = inhoud_df.truncate(after = selection.index.values[0])\n",
    "\n",
    "        # Add only the parts containing letters, and skip ones that are just spaces and enters.\n",
    "        for line in inhoud_df.text:\n",
    "            if line is None:\n",
    "                continue\n",
    "            if inhoud_str[-1:] != '.' and inhoud_str != '':\n",
    "                inhoud_str += '.'\n",
    "            if re.search('[a-zA-Z]', line):\n",
    "                inhoud_str += ' ' + str(line)\n",
    "        inhoud_str = inhoud_str.replace('\\n', '')\n",
    "        return inhoud_str\n",
    "    \n",
    "def proces_inhoud(inhoud_dict, string, ecli):\n",
    "    for word in string.split(' '):\n",
    "        if word.isalpha():\n",
    "            inhoud_dict[word] += ecli + ' '\n",
    "    return inhoud_dict\n",
    "\n",
    "# Filter for 'instantie' (instance).\n",
    "def get_instantie(df):\n",
    "    if not df[df.tags == 'creator'].empty:\n",
    "        return df[df.tags == 'creator']['text'].iloc[0]\n",
    "    return None\n",
    "\n",
    "# Filter for 'rechtsgebied' (jurisdiction).\n",
    "def get_rechtsgebied(df):\n",
    "    if not df[df.tags == 'subject'].empty:\n",
    "        return df[df.tags == 'subject']['text'].iloc[0]\n",
    "    return None\n",
    "\n",
    "# Access zipfolder.\n",
    "def process_folder(zipfolder): \n",
    "    archive = zipfile.ZipFile(zipfolder, 'r')\n",
    "    namelist = [x for x in archive.namelist() if '.xml' in x and x[0] is not 'E']\n",
    "    year = int(zipfolder[:4])\n",
    "    month = int(zipfolder[4:6])\n",
    "    inhoud_dict = defaultdict(str)\n",
    "    lawsuit_dict = defaultdict(lambda: dict())\n",
    "    \n",
    "    \n",
    "    # Go through each file in zipfolder.\n",
    "    for infile in tqdm_notebook(namelist):\n",
    "        ecli = infile[7:-4]\n",
    "        f = archive.open(infile)\n",
    "        \n",
    "        # Extract information from file.\n",
    "        inhoud, instantie, rechtsgebied = process_file(f)\n",
    "        \n",
    "        if inhoud:\n",
    "            inhoud_dict = proces_inhoud(inhoud_dict, inhoud, ecli)\n",
    "        \n",
    "        # Fill dictionary with the values.\n",
    "        lawsuit_dict[ecli]['year'] = year\n",
    "        lawsuit_dict[ecli]['month'] = month\n",
    "        lawsuit_dict[ecli]['inhoud'] = inhoud\n",
    "        lawsuit_dict[ecli]['instantie'] = instantie\n",
    "        lawsuit_dict[ecli]['rechtsgebied'] = rechtsgebied\n",
    "        lawsuit_dict[ecli]['ecli'] = ecli\n",
    "\n",
    "    return lawsuit_dict, inhoud_dict\n",
    "\n",
    "\n",
    "zipfolder = '201903.zip'\n",
    "dict1903 = process_folder(zipfolder)"
   ]
  },
  {
   "cell_type": "code",
   "execution_count": 12,
   "metadata": {},
   "outputs": [
    {
     "data": {
      "text/plain": [
       "' delete indices if necessary '"
      ]
     },
     "execution_count": 12,
     "metadata": {},
     "output_type": "execute_result"
    }
   ],
   "source": [
    "\"\"\" delete indices if necessary \"\"\"\n",
    "# e.indices.delete(index = 'rechtzaken')\n",
    "# e.indices.delete(index = 'keywords')"
   ]
  },
  {
   "cell_type": "code",
   "execution_count": 13,
   "metadata": {},
   "outputs": [
    {
     "ename": "NameError",
     "evalue": "name 'Elasticsearch' is not defined",
     "output_type": "error",
     "traceback": [
      "\u001b[0;31m---------------------------------------------------------------------------\u001b[0m",
      "\u001b[0;31mNameError\u001b[0m                                 Traceback (most recent call last)",
      "\u001b[0;32m<ipython-input-13-b0d2163a20fe>\u001b[0m in \u001b[0;36m<module>\u001b[0;34m()\u001b[0m\n\u001b[1;32m      1\u001b[0m \u001b[0;34m\"\"\" create indices if necessary \"\"\"\u001b[0m\u001b[0;34m\u001b[0m\u001b[0m\n\u001b[0;32m----> 2\u001b[0;31m \u001b[0me\u001b[0m \u001b[0;34m=\u001b[0m \u001b[0mElasticsearch\u001b[0m\u001b[0;34m(\u001b[0m\u001b[0;34m)\u001b[0m\u001b[0;34m\u001b[0m\u001b[0m\n\u001b[0m\u001b[1;32m      3\u001b[0m \u001b[0;31m# e.indices.create('keywords')\u001b[0m\u001b[0;34m\u001b[0m\u001b[0;34m\u001b[0m\u001b[0m\n\u001b[1;32m      4\u001b[0m \u001b[0;31m# e.indices.create('rechtzaken')\u001b[0m\u001b[0;34m\u001b[0m\u001b[0;34m\u001b[0m\u001b[0m\n",
      "\u001b[0;31mNameError\u001b[0m: name 'Elasticsearch' is not defined"
     ]
    }
   ],
   "source": [
    "\"\"\" create indices if necessary \"\"\"\n",
    "e = Elasticsearch()\n",
    "# e.indices.create('keywords')\n",
    "# e.indices.create('rechtzaken')"
   ]
  },
  {
   "cell_type": "code",
   "execution_count": 14,
   "metadata": {},
   "outputs": [],
   "source": [
    "\"\"\" import data into elasticsearch if necessary \"\"\"\n",
    "def rec_to_actions(df):\n",
    "    import json\n",
    "    for record in df.to_dict(orient=\"records\"):\n",
    "        yield ('{ \"index\" : { \"_index\" : \"%s\", \"_type\" : \"%s\" }}'% (INDEX, TYPE))\n",
    "        yield (json.dumps(record, default=int))\n",
    "        \n",
    "# INDEX = 'rechtzaken'\n",
    "# TYPE = 'record'\n",
    "# df_dict_rechtzaken = (pd.DataFrame.from_dict(dict(dict1903[0]), orient='index'))\n",
    "# res = e.bulk(rec_to_actions(df_dict_rechtzaken), request_timeout=10)\n",
    "# INDEX = 'keywords'\n",
    "# df_dict_keywords = (pd.DataFrame.from_dict(dict(dict1903[1]), orient='index'))\n",
    "# res = e.bulk(rec_to_actions(df_dict_keywords), request_timeout=10)"
   ]
  },
  {
   "cell_type": "code",
   "execution_count": 15,
   "metadata": {},
   "outputs": [],
   "source": [
    "\"\"\" helper function to get url to rechspraak site from ecli number of rechtzaak \"\"\"\n",
    "def get_url(ecli, text):\n",
    "    ecli = ecli.replace('_', ':')\n",
    "    url = 'https://uitspraken.rechtspraak.nl/inziendocument?id={}'.format(ecli)\n",
    "    return display(HTML('<a href=\"{}\", target = blank, style=\"color: #000000; text-decoration: none;\">{}</a>'.format(url, text)))\n"
   ]
  },
  {
   "cell_type": "code",
   "execution_count": 16,
   "metadata": {},
   "outputs": [
    {
     "ename": "NameError",
     "evalue": "name 'widgets' is not defined",
     "output_type": "error",
     "traceback": [
      "\u001b[0;31m---------------------------------------------------------------------------\u001b[0m",
      "\u001b[0;31mNameError\u001b[0m                                 Traceback (most recent call last)",
      "\u001b[0;32m<ipython-input-16-39a349a59f46>\u001b[0m in \u001b[0;36m<module>\u001b[0;34m()\u001b[0m\n\u001b[1;32m      1\u001b[0m \u001b[0;34m\"\"\" create widgets for the faceted search \"\"\"\u001b[0m\u001b[0;34m\u001b[0m\u001b[0m\n\u001b[1;32m      2\u001b[0m \u001b[0;31m# year slider\u001b[0m\u001b[0;34m\u001b[0m\u001b[0;34m\u001b[0m\u001b[0m\n\u001b[0;32m----> 3\u001b[0;31m sliderYear = widgets.IntRangeSlider(\n\u001b[0m\u001b[1;32m      4\u001b[0m     \u001b[0mvalue\u001b[0m\u001b[0;34m=\u001b[0m\u001b[0;34m[\u001b[0m\u001b[0;36m1913\u001b[0m\u001b[0;34m,\u001b[0m \u001b[0;36m2019\u001b[0m\u001b[0;34m]\u001b[0m\u001b[0;34m,\u001b[0m\u001b[0;34m\u001b[0m\u001b[0m\n\u001b[1;32m      5\u001b[0m     \u001b[0mmin\u001b[0m\u001b[0;34m=\u001b[0m\u001b[0;36m1913\u001b[0m\u001b[0;34m,\u001b[0m\u001b[0;34m\u001b[0m\u001b[0m\n",
      "\u001b[0;31mNameError\u001b[0m: name 'widgets' is not defined"
     ]
    }
   ],
   "source": [
    "\"\"\" create widgets for the faceted search \"\"\"\n",
    "# year slider\n",
    "sliderYear = widgets.IntRangeSlider(\n",
    "    value=[1913, 2019],\n",
    "    min=1913,\n",
    "    max=2019,\n",
    "    step=1,\n",
    "    description='Jaar:',\n",
    "    disabled=False,\n",
    "    continuous_update=False,\n",
    "    orientation='horizontal',\n",
    "    readout=True,\n",
    "    readout_format='d',\n",
    ")\n",
    "\n",
    "# month slider\n",
    "sliderMonth = widgets.IntRangeSlider(\n",
    "    value=[1, 12],\n",
    "    min=1,\n",
    "    max=12,\n",
    "    step=1,\n",
    "    description='Maand:',\n",
    "    disabled=False,\n",
    "    continuous_update=False,\n",
    "    orientation='horizontal',\n",
    "    readout=True,\n",
    "    readout_format='d',\n",
    ")\n",
    "\n",
    "# rechtsgebied selector\n",
    "selector = widgets.SelectMultiple(\n",
    "    options=['Bestuursrecht', 'Civiel recht', 'Internationaal publiekrecht', 'Strafrecht'],\n",
    "    description='Rechtsgebied',\n",
    "    disabled=False\n",
    ")\n",
    "\n",
    "# instantie selector\n",
    "selector2 = widgets.SelectMultiple(\n",
    "    options=[\"Kamer voor het notariaat in het ressort 's-Hertogenbosch\", 'Rechtbank Overijssel', 'Parket bij de Hoge Raad', 'Gerecht in eerste aanleg van Sint Maarten', 'Gerecht in Eerste Aanleg van Aruba', 'College van Beroep voor het bedrijfsleven', 'Gerecht in eerste aanleg van Bonaire, Sint Eustatius en Saba', \"Regionaal Tuchtcollege voor de Gezondheidszorg 's-Gravenhage\", 'College voor de Rechten van de Mens', 'Gemeenschappelijk Hof van Justitie van Aruba, Curaçao, Sint Maarten en van Bonaire, Sint Eustatius en Saba', 'Kamer voor het notariaat in het ressort Amsterdam', 'Hof van Discipline', 'Rechtbank Gelderland', 'Accountantskamer NIVRA', 'Centraal Tuchtcollege voor de Gezondheidszorg', 'Kamer voor het notariaat in het ressort Arnhem-Leeuwarden', 'Raad van State', 'Rechtbank Zeeland-West-Brabant', \"Raad van Discipline 's-Gravenhage\", 'Regionaal Tuchtcollege voor de Gezondheidszorg Amsterdam', 'Rechtbank Limburg', 'Gerechtshof Amsterdam', \"Raad van Discipline 's-Hertogenbosch\", 'Regionaal Tuchtcollege voor de Gezondheidszorg Zwolle', 'Kamer voor het notariaat in het ressort Den Haag', 'Rechtbank Den Haag', 'Rechtbank Midden-Nederland', 'Rechtbank Noord-Nederland', 'Regionaal Tuchtcollege voor de Gezondheidszorg Eindhoven', 'Rechtbank Amsterdam', 'Hoge Raad', 'Kamer voor Gerechtsdeurwaarders', 'Gerecht in eerste aanleg van Curaçao', 'Raad van Discipline Arnhem-Leeuwarden', 'Gerechtshof Arnhem-Leeuwarden', 'Rechtbank Oost-Brabant', \"Gerechtshof 's-Hertogenbosch\", 'Rechtbank Noord-Holland', 'Raad van Discipline Amsterdam', 'Gerecht in Ambtenarenzaken van Aruba, Curaçao, Sint Maarten en van Bonaire, Sint Eustatius en Saba', 'Rechtbank Rotterdam', 'Regionaal Tuchtcollege voor de Gezondheidszorg Groningen', 'Gerechtshof Den Haag', 'Centrale Raad van Beroep'],\n",
    "    rows=8,\n",
    "    description='Instantie',\n",
    "    disabled=False\n",
    ")\n"
   ]
  },
  {
   "cell_type": "code",
   "execution_count": 17,
   "metadata": {},
   "outputs": [
    {
     "ename": "NameError",
     "evalue": "name 'widgets' is not defined",
     "output_type": "error",
     "traceback": [
      "\u001b[0;31m---------------------------------------------------------------------------\u001b[0m",
      "\u001b[0;31mNameError\u001b[0m                                 Traceback (most recent call last)",
      "\u001b[0;32m<ipython-input-17-39b70bab5f0a>\u001b[0m in \u001b[0;36m<module>\u001b[0;34m()\u001b[0m\n\u001b[1;32m      1\u001b[0m \u001b[0;34m\"\"\" display faceted search UI \"\"\"\u001b[0m\u001b[0;34m\u001b[0m\u001b[0m\n\u001b[0;32m----> 2\u001b[0;31m \u001b[0maccordion\u001b[0m \u001b[0;34m=\u001b[0m \u001b[0mwidgets\u001b[0m\u001b[0;34m.\u001b[0m\u001b[0mAccordion\u001b[0m\u001b[0;34m(\u001b[0m\u001b[0mchildren\u001b[0m\u001b[0;34m=\u001b[0m\u001b[0;34m[\u001b[0m\u001b[0msliderYear\u001b[0m\u001b[0;34m,\u001b[0m \u001b[0msliderMonth\u001b[0m\u001b[0;34m,\u001b[0m \u001b[0mselector\u001b[0m\u001b[0;34m,\u001b[0m \u001b[0mselector2\u001b[0m\u001b[0;34m]\u001b[0m\u001b[0;34m)\u001b[0m\u001b[0;34m\u001b[0m\u001b[0m\n\u001b[0m\u001b[1;32m      3\u001b[0m \u001b[0maccordion\u001b[0m\u001b[0;34m.\u001b[0m\u001b[0mset_title\u001b[0m\u001b[0;34m(\u001b[0m\u001b[0;36m0\u001b[0m\u001b[0;34m,\u001b[0m \u001b[0;34m'Jaar'\u001b[0m\u001b[0;34m)\u001b[0m\u001b[0;34m\u001b[0m\u001b[0m\n\u001b[1;32m      4\u001b[0m \u001b[0maccordion\u001b[0m\u001b[0;34m.\u001b[0m\u001b[0mset_title\u001b[0m\u001b[0;34m(\u001b[0m\u001b[0;36m1\u001b[0m\u001b[0;34m,\u001b[0m \u001b[0;34m'Maand'\u001b[0m\u001b[0;34m)\u001b[0m\u001b[0;34m\u001b[0m\u001b[0m\n\u001b[1;32m      5\u001b[0m \u001b[0maccordion\u001b[0m\u001b[0;34m.\u001b[0m\u001b[0mset_title\u001b[0m\u001b[0;34m(\u001b[0m\u001b[0;36m2\u001b[0m\u001b[0;34m,\u001b[0m \u001b[0;34m'Rechtsgebied'\u001b[0m\u001b[0;34m)\u001b[0m\u001b[0;34m\u001b[0m\u001b[0m\n",
      "\u001b[0;31mNameError\u001b[0m: name 'widgets' is not defined"
     ]
    }
   ],
   "source": [
    "\"\"\" display faceted search UI \"\"\"\n",
    "accordion = widgets.Accordion(children=[sliderYear, sliderMonth, selector, selector2])\n",
    "accordion.set_title(0, 'Jaar')\n",
    "accordion.set_title(1, 'Maand')\n",
    "accordion.set_title(2, 'Rechtsgebied')\n",
    "accordion.set_title(3, 'Instantie')\n",
    "display(accordion)\n",
    "\n",
    "# Create text input field.\n",
    "text = widgets.Text()\n",
    "display(text)\n",
    "\n",
    "# Event when button is pressed.\n",
    "def btn_eventhandler(obj):\n",
    "    \n",
    "    years = sliderYear.value\n",
    "    months = sliderMonth.value\n",
    "    \n",
    "    sel2 = selector2.value\n",
    "    if not sel2:\n",
    "        sel2 = [\"Kamer voor het notariaat in het ressort 's-Hertogenbosch\", 'Rechtbank Overijssel', 'Parket bij de Hoge Raad', 'Gerecht in eerste aanleg van Sint Maarten', 'Gerecht in Eerste Aanleg van Aruba', 'College van Beroep voor het bedrijfsleven', 'Gerecht in eerste aanleg van Bonaire, Sint Eustatius en Saba', \"Regionaal Tuchtcollege voor de Gezondheidszorg 's-Gravenhage\", 'College voor de Rechten van de Mens', 'Gemeenschappelijk Hof van Justitie van Aruba, Curaçao, Sint Maarten en van Bonaire, Sint Eustatius en Saba', 'Kamer voor het notariaat in het ressort Amsterdam', 'Hof van Discipline', 'Rechtbank Gelderland', 'Accountantskamer NIVRA', 'Centraal Tuchtcollege voor de Gezondheidszorg', 'Kamer voor het notariaat in het ressort Arnhem-Leeuwarden', 'Raad van State', 'Rechtbank Zeeland-West-Brabant', \"Raad van Discipline 's-Gravenhage\", 'Regionaal Tuchtcollege voor de Gezondheidszorg Amsterdam', 'Rechtbank Limburg', 'Gerechtshof Amsterdam', \"Raad van Discipline 's-Hertogenbosch\", 'Regionaal Tuchtcollege voor de Gezondheidszorg Zwolle', 'Kamer voor het notariaat in het ressort Den Haag', 'Rechtbank Den Haag', 'Rechtbank Midden-Nederland', 'Rechtbank Noord-Nederland', 'Regionaal Tuchtcollege voor de Gezondheidszorg Eindhoven', 'Rechtbank Amsterdam', 'Hoge Raad', 'Kamer voor Gerechtsdeurwaarders', 'Gerecht in eerste aanleg van Curaçao', 'Raad van Discipline Arnhem-Leeuwarden', 'Gerechtshof Arnhem-Leeuwarden', 'Rechtbank Oost-Brabant', \"Gerechtshof 's-Hertogenbosch\", 'Rechtbank Noord-Holland', 'Raad van Discipline Amsterdam', 'Gerecht in Ambtenarenzaken van Aruba, Curaçao, Sint Maarten en van Bonaire, Sint Eustatius en Saba', 'Rechtbank Rotterdam', 'Regionaal Tuchtcollege voor de Gezondheidszorg Groningen', 'Gerechtshof Den Haag', 'Centrale Raad van Beroep']    \n",
    "        \n",
    "    sel1 = selector.value\n",
    "    if not sel1:\n",
    "        sel1 = ['Strafrecht; Penitentiair strafrecht', 'Strafrecht; Materieel strafrecht', 'Civiel recht; Personen- en familierecht', 'Strafrecht; Europees strafrecht', 'Bestuursrecht; Bestuursstrafrecht', 'Bestuursrecht; Omgevingsrecht', 'Civiel recht; Insolventierecht', 'Strafrecht', 'Civiel recht; Verbintenissenrecht', 'Bestuursrecht; Socialezekerheidsrecht', 'Bestuursrecht; Ambtenarenrecht', 'Civiel recht; Ondernemingsrecht', 'Bestuursrecht; Vreemdelingenrecht', 'Civiel recht; Internationaal privaatrecht', 'Civiel recht; Aanbestedingsrecht', 'Bestuursrecht; Bestuursprocesrecht', 'Civiel recht; Intellectueel-eigendomsrecht', 'Civiel recht', 'Strafrecht; Internationaal strafrecht', 'Internationaal publiekrecht', 'Civiel recht; Europees civiel recht', 'Bestuursrecht', 'Civiel recht; Goederenrecht', 'Bestuursrecht; Belastingrecht', 'Civiel recht; Burgerlijk procesrecht', None, 'Strafrecht; Strafprocesrecht', 'Civiel recht; Arbeidsrecht']\n",
    "    \n",
    "    body = {\n",
    "  \"query\": { \n",
    "    \"bool\": { \n",
    "      \"must\": [\n",
    "        { \"match\": { \"instantie\": \"{}\".format(sel2)}},\n",
    "        { \"match\": { \"inhoud\": \"{}\".format(text.value)}},\n",
    "        { \"match\": { \"rechtsgebied\": \"{}\".format(sel1)}},\n",
    "        { \"range\" : { \"year\" : {\"gte\" : years[0], \"lte\": years[1]}}},\n",
    "        { \"range\" : { \"month\" : {\"gte\" : months[0], \"lte\": months[1]}}}\n",
    "      ]\n",
    "    }\n",
    "  },\n",
    "  \"aggs\" : {\n",
    "    \"cloud\" : {\n",
    "        \"terms\" : { \"field\" : \"inhoud.keyword\" }\n",
    "    }      \n",
    "  }\n",
    "}\n",
    "\n",
    "    results = e.search(index = 'rechtzaken', body = body)\n",
    "    for hit in results['hits']['hits']:\n",
    "        # display wordcloud\n",
    "        wordcloud = WordCloud(stopwords=stopwords, background_color=\"white\").generate(hit['_source']['inhoud'])\n",
    "        plt.imshow(wordcloud, interpolation='bilinear')\n",
    "        plt.axis(\"off\")\n",
    "        plt.show()\n",
    "        # display url\n",
    "        get_url(hit['_source']['ecli'], hit['_source']['ecli'])\n",
    "        # display inhoudsindicatie\n",
    "        print(hit['_source']['inhoud'])\n",
    "        print('\\n\\n')\n",
    "\n",
    "# create button\n",
    "btn = widgets.Button(description='bing')\n",
    "btn.style.button_color = 'orange'\n",
    "display(btn)\n",
    "\n",
    "# handle button press\n",
    "btn.on_click(btn_eventhandler)"
   ]
  },
  {
   "cell_type": "markdown",
   "metadata": {},
   "source": [
    "# Dataset\n",
    "\n",
    "The dataset that we used is the open data from a website called Rechtspraak.nl. Rechtspraak.nl contains all descriptions of Dutch court cases dating from 1913 till 2019. \n",
    "\n",
    "The first dataset contains the texts from these court cases and the metadata that goes with it, such as the keywords related to it, the publication date, the date of the court case, the court it took place in and the jurisdiction. \n",
    "\n",
    "The second dataset is a dictionary with all keywords related to law as key and all the court cases that contain this keyword as values. "
   ]
  },
  {
   "cell_type": "markdown",
   "metadata": {},
   "source": [
    "# Assignment\n",
    "## Requirement 1"
   ]
  },
  {
   "cell_type": "markdown",
   "metadata": {},
   "source": [
    "> Below we search the woord 'wet'. The result is the top ten hits as determined by Elasticsearch. The title of the hits are links that redirect the user to the full court case on the website rechtspraak.nl. The top ten hits are accompanied by a short description of the court case and a word cloud. Our initial plan was to make the words in the description clickable, so that the user would be redirected to other court cases containing these keywords. Due to time constraints and a lack of understanding of Elasticsearch, we did not manage to implement this. "
   ]
  },
  {
   "cell_type": "markdown",
   "metadata": {},
   "source": [
    "![title](imgs/requirement1.png)"
   ]
  },
  {
   "cell_type": "markdown",
   "metadata": {},
   "source": [
    "## Requirement 2"
   ]
  },
  {
   "cell_type": "markdown",
   "metadata": {},
   "source": [
    "> You can use the facets to get results from different time periods by moving the slider. There is a slider to select the years and a slider to select the months. We did not manage to build this functionality into the search bar itself. "
   ]
  },
  {
   "cell_type": "markdown",
   "metadata": {},
   "source": [
    "![title](imgs/requirement2.png)"
   ]
  },
  {
   "cell_type": "markdown",
   "metadata": {},
   "source": [
    "## Requirement 3"
   ]
  },
  {
   "cell_type": "markdown",
   "metadata": {},
   "source": [
    "> We chose to implement option B. Every article has a wordcloud that goes with it, which is created from the 'indhoudsindicatie' (or content indication, in English). A list has been created containing the most common Dutch stopwords to prevent them from showing up in the worldclouds. In the search the wordclouds for the first 10 hits are displayed. "
   ]
  },
  {
   "cell_type": "markdown",
   "metadata": {},
   "source": [
    "![title](imgs/requirement3.png)"
   ]
  },
  {
   "cell_type": "markdown",
   "metadata": {},
   "source": [
    "## Requirement 4"
   ]
  },
  {
   "cell_type": "markdown",
   "metadata": {},
   "source": [
    "> The timeline has not been implemented yet."
   ]
  },
  {
   "cell_type": "markdown",
   "metadata": {},
   "source": [
    "![title](imgs/requirement4.png)"
   ]
  },
  {
   "cell_type": "markdown",
   "metadata": {},
   "source": [
    "## Requirement 5"
   ]
  },
  {
   "cell_type": "markdown",
   "metadata": {},
   "source": [
    "> With the different facets the search results can be filtered by year, month, 'rechtsgebied' and 'instantie'. The year and month facets are sliders, with which a certain time period can be selected. We have chosen to seperate year and month, so that if a person only has a preference for certain years and not for months, they won't have to select any months and vice versa. The year slider ranges from 1913 and 2019, because the court cases date from 1913 and 2019.\n",
    "The facets fro 'rechtsgebied' and 'instantie' are selectors. The user can also select multiple options from these. \n"
   ]
  },
  {
   "cell_type": "markdown",
   "metadata": {},
   "source": [
    "![title](imgs/requirement5.png)"
   ]
  },
  {
   "cell_type": "markdown",
   "metadata": {},
   "source": [
    "![title](imgs/requirement5b.png)"
   ]
  },
  {
   "cell_type": "markdown",
   "metadata": {},
   "source": [
    "## Requirement 6"
   ]
  },
  {
   "attachments": {},
   "cell_type": "markdown",
   "metadata": {},
   "source": [
    "\"\"\"5 example queries for our search engine\"\"\"\n",
    "\n",
    "\n",
    "<topic number=\"1\"  >\n",
    "    <query>*tuchtrecht*</query>\n",
    "    <description>Find court cases that have something to do with disciplinary law\n",
    "    </description>\n",
    "\n",
    "</topic>\n",
    "\n",
    "<topic number=\"2\"  >\n",
    "    <query>pinpas fraude </query>\n",
    "    <description>Find court cases about debit card fraud\n",
    "    </description>\n",
    "</topic>\n",
    "\n",
    "<topic number=\"3\"  >\n",
    "    <query>diefstal in amsterdam</query>\n",
    "    <description>Find court cases about theft taking place in amsterdam\n",
    "    </description>\n",
    "\n",
    "</topic>\n",
    "\n",
    "<topic number=\"4\"  >\n",
    "    <query>fiscale recht kwijtgescholden</query>\n",
    "    <description> I am looking for cases of fiscal law in which money has been remitted. \n",
    "    </description>\n",
    "</topic>\n",
    "\n",
    "<topic number=\"5\"  >\n",
    "    <query>gevangenisstraf van drie maanden</query>\n",
    "    <description>Find court cases in which the delinquent has to serve three months of jail time\n",
    "    </description>\n",
    "\n",
    "</topic>\n"
   ]
  },
  {
   "cell_type": "markdown",
   "metadata": {},
   "source": [
    "This is what the final search engine looks like"
   ]
  },
  {
   "cell_type": "markdown",
   "metadata": {},
   "source": [
    "![title](imgs/requirement6.png)"
   ]
  },
  {
   "cell_type": "code",
   "execution_count": null,
   "metadata": {},
   "outputs": [],
   "source": []
  },
  {
   "cell_type": "code",
   "execution_count": null,
   "metadata": {},
   "outputs": [],
   "source": []
  }
 ],
 "metadata": {
  "kernelspec": {
   "display_name": "Python 3",
   "language": "python",
   "name": "python3"
  },
  "language_info": {
   "codemirror_mode": {
    "name": "ipython",
    "version": 3
   },
   "file_extension": ".py",
   "mimetype": "text/x-python",
   "name": "python",
   "nbconvert_exporter": "python",
   "pygments_lexer": "ipython3",
   "version": "3.5.2"
  },
  "toc": {
   "base_numbering": 1,
   "nav_menu": {},
   "number_sections": true,
   "sideBar": true,
   "skip_h1_title": false,
   "title_cell": "Table of Contents",
   "title_sidebar": "Contents",
   "toc_cell": true,
   "toc_position": {},
   "toc_section_display": true,
   "toc_window_display": false
  }
 },
 "nbformat": 4,
 "nbformat_minor": 2
}
